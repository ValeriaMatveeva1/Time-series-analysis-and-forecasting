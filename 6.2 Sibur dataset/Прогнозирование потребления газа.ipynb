{
 "cells": [
  {
   "cell_type": "code",
   "execution_count": 197,
   "id": "d9c73f99",
   "metadata": {},
   "outputs": [],
   "source": [
    "import numpy as np\n",
    "import pandas as pd\n",
    "import matplotlib.pyplot as plt\n",
    "%matplotlib inline"
   ]
  },
  {
   "cell_type": "code",
   "execution_count": 198,
   "id": "47a215be",
   "metadata": {},
   "outputs": [],
   "source": [
    "train = pd.read_csv('data/sibur_train.csv')\n",
    "test = pd.read_csv('data/sibur_test.csv')"
   ]
  },
  {
   "cell_type": "code",
   "execution_count": 199,
   "id": "a6139909",
   "metadata": {},
   "outputs": [
    {
     "data": {
      "text/html": [
       "<div>\n",
       "<style scoped>\n",
       "    .dataframe tbody tr th:only-of-type {\n",
       "        vertical-align: middle;\n",
       "    }\n",
       "\n",
       "    .dataframe tbody tr th {\n",
       "        vertical-align: top;\n",
       "    }\n",
       "\n",
       "    .dataframe thead th {\n",
       "        text-align: right;\n",
       "    }\n",
       "</style>\n",
       "<table border=\"1\" class=\"dataframe\">\n",
       "  <thead>\n",
       "    <tr style=\"text-align: right;\">\n",
       "      <th></th>\n",
       "      <th>material_code</th>\n",
       "      <th>company_code</th>\n",
       "      <th>country</th>\n",
       "      <th>region</th>\n",
       "      <th>manager_code</th>\n",
       "      <th>month</th>\n",
       "      <th>vol_tm6</th>\n",
       "      <th>vol_tm5</th>\n",
       "      <th>vol_tm4</th>\n",
       "      <th>vol_tm3</th>\n",
       "      <th>vol_tm2</th>\n",
       "      <th>vol_tm1</th>\n",
       "      <th>last_year_avg</th>\n",
       "      <th>last_year_min</th>\n",
       "      <th>last_year_max</th>\n",
       "      <th>target</th>\n",
       "    </tr>\n",
       "  </thead>\n",
       "  <tbody>\n",
       "    <tr>\n",
       "      <th>0</th>\n",
       "      <td>109.304995</td>\n",
       "      <td>109.304995</td>\n",
       "      <td>109.304995</td>\n",
       "      <td>109.304995</td>\n",
       "      <td>109.304995</td>\n",
       "      <td>1</td>\n",
       "      <td>220.0</td>\n",
       "      <td>220.0</td>\n",
       "      <td>220.0</td>\n",
       "      <td>280.0</td>\n",
       "      <td>280.0</td>\n",
       "      <td>280.0</td>\n",
       "      <td>260.000000</td>\n",
       "      <td>220.0</td>\n",
       "      <td>340.0</td>\n",
       "      <td>200.0</td>\n",
       "    </tr>\n",
       "    <tr>\n",
       "      <th>1</th>\n",
       "      <td>109.304995</td>\n",
       "      <td>109.304995</td>\n",
       "      <td>109.304995</td>\n",
       "      <td>109.304995</td>\n",
       "      <td>109.304995</td>\n",
       "      <td>1</td>\n",
       "      <td>0.0</td>\n",
       "      <td>0.0</td>\n",
       "      <td>0.0</td>\n",
       "      <td>0.0</td>\n",
       "      <td>0.0</td>\n",
       "      <td>0.0</td>\n",
       "      <td>21.666667</td>\n",
       "      <td>0.0</td>\n",
       "      <td>200.0</td>\n",
       "      <td>0.0</td>\n",
       "    </tr>\n",
       "    <tr>\n",
       "      <th>2</th>\n",
       "      <td>54.652497</td>\n",
       "      <td>54.652497</td>\n",
       "      <td>54.652497</td>\n",
       "      <td>109.304995</td>\n",
       "      <td>54.652497</td>\n",
       "      <td>1</td>\n",
       "      <td>0.0</td>\n",
       "      <td>0.0</td>\n",
       "      <td>100.0</td>\n",
       "      <td>220.0</td>\n",
       "      <td>20.0</td>\n",
       "      <td>0.0</td>\n",
       "      <td>40.000000</td>\n",
       "      <td>0.0</td>\n",
       "      <td>220.0</td>\n",
       "      <td>0.0</td>\n",
       "    </tr>\n",
       "    <tr>\n",
       "      <th>3</th>\n",
       "      <td>36.434998</td>\n",
       "      <td>36.434998</td>\n",
       "      <td>36.434998</td>\n",
       "      <td>109.304995</td>\n",
       "      <td>36.434998</td>\n",
       "      <td>1</td>\n",
       "      <td>180.0</td>\n",
       "      <td>99.0</td>\n",
       "      <td>60.0</td>\n",
       "      <td>400.0</td>\n",
       "      <td>120.0</td>\n",
       "      <td>20.0</td>\n",
       "      <td>91.583333</td>\n",
       "      <td>0.0</td>\n",
       "      <td>400.0</td>\n",
       "      <td>40.0</td>\n",
       "    </tr>\n",
       "    <tr>\n",
       "      <th>4</th>\n",
       "      <td>37.326249</td>\n",
       "      <td>37.326249</td>\n",
       "      <td>109.304995</td>\n",
       "      <td>109.304995</td>\n",
       "      <td>109.304995</td>\n",
       "      <td>1</td>\n",
       "      <td>40.0</td>\n",
       "      <td>20.0</td>\n",
       "      <td>40.0</td>\n",
       "      <td>30.0</td>\n",
       "      <td>0.0</td>\n",
       "      <td>40.0</td>\n",
       "      <td>19.166667</td>\n",
       "      <td>0.0</td>\n",
       "      <td>40.0</td>\n",
       "      <td>40.0</td>\n",
       "    </tr>\n",
       "    <tr>\n",
       "      <th>...</th>\n",
       "      <td>...</td>\n",
       "      <td>...</td>\n",
       "      <td>...</td>\n",
       "      <td>...</td>\n",
       "      <td>...</td>\n",
       "      <td>...</td>\n",
       "      <td>...</td>\n",
       "      <td>...</td>\n",
       "      <td>...</td>\n",
       "      <td>...</td>\n",
       "      <td>...</td>\n",
       "      <td>...</td>\n",
       "      <td>...</td>\n",
       "      <td>...</td>\n",
       "      <td>...</td>\n",
       "      <td>...</td>\n",
       "    </tr>\n",
       "    <tr>\n",
       "      <th>11287</th>\n",
       "      <td>81.197104</td>\n",
       "      <td>9.108750</td>\n",
       "      <td>96.244657</td>\n",
       "      <td>75.909940</td>\n",
       "      <td>96.644710</td>\n",
       "      <td>12</td>\n",
       "      <td>0.0</td>\n",
       "      <td>0.0</td>\n",
       "      <td>0.0</td>\n",
       "      <td>0.0</td>\n",
       "      <td>0.0</td>\n",
       "      <td>0.0</td>\n",
       "      <td>0.000000</td>\n",
       "      <td>0.0</td>\n",
       "      <td>0.0</td>\n",
       "      <td>0.0</td>\n",
       "    </tr>\n",
       "    <tr>\n",
       "      <th>11288</th>\n",
       "      <td>59.495667</td>\n",
       "      <td>72.628814</td>\n",
       "      <td>96.233404</td>\n",
       "      <td>51.984540</td>\n",
       "      <td>39.299434</td>\n",
       "      <td>12</td>\n",
       "      <td>10.0</td>\n",
       "      <td>5.0</td>\n",
       "      <td>5.0</td>\n",
       "      <td>10.0</td>\n",
       "      <td>10.0</td>\n",
       "      <td>0.0</td>\n",
       "      <td>5.250000</td>\n",
       "      <td>0.0</td>\n",
       "      <td>10.0</td>\n",
       "      <td>6.0</td>\n",
       "    </tr>\n",
       "    <tr>\n",
       "      <th>11289</th>\n",
       "      <td>58.332717</td>\n",
       "      <td>85.512708</td>\n",
       "      <td>96.222855</td>\n",
       "      <td>51.792937</td>\n",
       "      <td>82.683294</td>\n",
       "      <td>12</td>\n",
       "      <td>121.0</td>\n",
       "      <td>121.0</td>\n",
       "      <td>129.0</td>\n",
       "      <td>117.0</td>\n",
       "      <td>115.0</td>\n",
       "      <td>102.0</td>\n",
       "      <td>83.833333</td>\n",
       "      <td>0.0</td>\n",
       "      <td>129.0</td>\n",
       "      <td>29.0</td>\n",
       "    </tr>\n",
       "    <tr>\n",
       "      <th>11290</th>\n",
       "      <td>57.708617</td>\n",
       "      <td>139.402187</td>\n",
       "      <td>96.214998</td>\n",
       "      <td>84.871469</td>\n",
       "      <td>82.504350</td>\n",
       "      <td>12</td>\n",
       "      <td>100.0</td>\n",
       "      <td>120.0</td>\n",
       "      <td>120.0</td>\n",
       "      <td>80.0</td>\n",
       "      <td>120.0</td>\n",
       "      <td>140.0</td>\n",
       "      <td>119.916667</td>\n",
       "      <td>80.0</td>\n",
       "      <td>160.0</td>\n",
       "      <td>100.0</td>\n",
       "    </tr>\n",
       "    <tr>\n",
       "      <th>11291</th>\n",
       "      <td>58.589687</td>\n",
       "      <td>238.929375</td>\n",
       "      <td>96.215440</td>\n",
       "      <td>103.251955</td>\n",
       "      <td>60.894931</td>\n",
       "      <td>12</td>\n",
       "      <td>0.0</td>\n",
       "      <td>20.0</td>\n",
       "      <td>0.0</td>\n",
       "      <td>20.0</td>\n",
       "      <td>40.0</td>\n",
       "      <td>40.0</td>\n",
       "      <td>13.333333</td>\n",
       "      <td>0.0</td>\n",
       "      <td>40.0</td>\n",
       "      <td>40.0</td>\n",
       "    </tr>\n",
       "  </tbody>\n",
       "</table>\n",
       "<p>11292 rows × 16 columns</p>\n",
       "</div>"
      ],
      "text/plain": [
       "       material_code  company_code     country      region  manager_code  \\\n",
       "0         109.304995    109.304995  109.304995  109.304995    109.304995   \n",
       "1         109.304995    109.304995  109.304995  109.304995    109.304995   \n",
       "2          54.652497     54.652497   54.652497  109.304995     54.652497   \n",
       "3          36.434998     36.434998   36.434998  109.304995     36.434998   \n",
       "4          37.326249     37.326249  109.304995  109.304995    109.304995   \n",
       "...              ...           ...         ...         ...           ...   \n",
       "11287      81.197104      9.108750   96.244657   75.909940     96.644710   \n",
       "11288      59.495667     72.628814   96.233404   51.984540     39.299434   \n",
       "11289      58.332717     85.512708   96.222855   51.792937     82.683294   \n",
       "11290      57.708617    139.402187   96.214998   84.871469     82.504350   \n",
       "11291      58.589687    238.929375   96.215440  103.251955     60.894931   \n",
       "\n",
       "       month  vol_tm6  vol_tm5  vol_tm4  vol_tm3  vol_tm2  vol_tm1  \\\n",
       "0          1    220.0    220.0    220.0    280.0    280.0    280.0   \n",
       "1          1      0.0      0.0      0.0      0.0      0.0      0.0   \n",
       "2          1      0.0      0.0    100.0    220.0     20.0      0.0   \n",
       "3          1    180.0     99.0     60.0    400.0    120.0     20.0   \n",
       "4          1     40.0     20.0     40.0     30.0      0.0     40.0   \n",
       "...      ...      ...      ...      ...      ...      ...      ...   \n",
       "11287     12      0.0      0.0      0.0      0.0      0.0      0.0   \n",
       "11288     12     10.0      5.0      5.0     10.0     10.0      0.0   \n",
       "11289     12    121.0    121.0    129.0    117.0    115.0    102.0   \n",
       "11290     12    100.0    120.0    120.0     80.0    120.0    140.0   \n",
       "11291     12      0.0     20.0      0.0     20.0     40.0     40.0   \n",
       "\n",
       "       last_year_avg  last_year_min  last_year_max  target  \n",
       "0         260.000000          220.0          340.0   200.0  \n",
       "1          21.666667            0.0          200.0     0.0  \n",
       "2          40.000000            0.0          220.0     0.0  \n",
       "3          91.583333            0.0          400.0    40.0  \n",
       "4          19.166667            0.0           40.0    40.0  \n",
       "...              ...            ...            ...     ...  \n",
       "11287       0.000000            0.0            0.0     0.0  \n",
       "11288       5.250000            0.0           10.0     6.0  \n",
       "11289      83.833333            0.0          129.0    29.0  \n",
       "11290     119.916667           80.0          160.0   100.0  \n",
       "11291      13.333333            0.0           40.0    40.0  \n",
       "\n",
       "[11292 rows x 16 columns]"
      ]
     },
     "execution_count": 199,
     "metadata": {},
     "output_type": "execute_result"
    }
   ],
   "source": [
    "train"
   ]
  },
  {
   "cell_type": "code",
   "execution_count": 200,
   "id": "b74f3b11",
   "metadata": {},
   "outputs": [
    {
     "data": {
      "image/png": "[encoded data removed]",
      "text/plain": [
       "<Figure size 640x480 with 1 Axes>"
      ]
     },
     "metadata": {},
     "output_type": "display_data"
    }
   ],
   "source": [
    "train['target'].hist(bins=100)\n",
    "plt.show()"
   ]
  },
  {
   "cell_type": "markdown",
   "id": "606d1763",
   "metadata": {},
   "source": [
    "1. Cначала построим модель линейной регрессии и предсказания для train и test, проверим результаты с помощью метрики RMSLE"
   ]
  },
  {
   "cell_type": "code",
   "execution_count": 201,
   "id": "17d20e70",
   "metadata": {},
   "outputs": [],
   "source": [
    "from sklearn.linear_model import LinearRegression\n",
    "from sklearn.compose import TransformedTargetRegressor\n",
    "from sklearn.metrics import mean_squared_log_error"
   ]
  },
  {
   "cell_type": "code",
   "execution_count": 202,
   "id": "3bfa19cd",
   "metadata": {},
   "outputs": [],
   "source": [
    "model = LinearRegression()"
   ]
  },
  {
   "cell_type": "code",
   "execution_count": 203,
   "id": "8d5f7fbc",
   "metadata": {},
   "outputs": [],
   "source": [
    "X_train = train.drop('target', axis=1)\n",
    "y_train = train['target']"
   ]
  },
  {
   "cell_type": "code",
   "execution_count": 204,
   "id": "fc43276a",
   "metadata": {},
   "outputs": [],
   "source": [
    "result = model.fit(X_train, y_train)"
   ]
  },
  {
   "cell_type": "code",
   "execution_count": 205,
   "id": "7c1c65b0",
   "metadata": {},
   "outputs": [],
   "source": [
    "predicts_train = result.predict(X_train)"
   ]
  },
  {
   "cell_type": "code",
   "execution_count": 206,
   "id": "af9187bf",
   "metadata": {},
   "outputs": [],
   "source": [
    "predicts_train[predicts_train < 0] = 0"
   ]
  },
  {
   "cell_type": "code",
   "execution_count": 207,
   "id": "cdbd61c4",
   "metadata": {},
   "outputs": [],
   "source": [
    "X_test = test.drop('target', axis=1)\n",
    "y_test = test['target']"
   ]
  },
  {
   "cell_type": "code",
   "execution_count": 208,
   "id": "ff4469ea",
   "metadata": {},
   "outputs": [],
   "source": [
    "predicts_test = result.predict(X_test)"
   ]
  },
  {
   "cell_type": "code",
   "execution_count": 209,
   "id": "99ac6e42",
   "metadata": {},
   "outputs": [],
   "source": [
    "predicts_test[predicts_test < 0] = 0"
   ]
  },
  {
   "cell_type": "code",
   "execution_count": 210,
   "id": "59c93329",
   "metadata": {},
   "outputs": [
    {
     "name": "stdout",
     "output_type": "stream",
     "text": [
      "RMSLE for train =  1.8418781544679241\n",
      "RMSLE for test =  2.064505432857435\n"
     ]
    }
   ],
   "source": [
    "print('RMSLE for (X, y) train = ', np.sqrt(mean_squared_log_error(y_train.values, predicts_train)))\n",
    "print('RMSLE for () test = ', np.sqrt(mean_squared_log_error(y_test.values, predicts_test)))"
   ]
  },
  {
   "cell_type": "markdown",
   "id": "6f8a886d",
   "metadata": {},
   "source": [
    "2. Прологарифмируем целевую переменную с помощью функции np.log1p и повторим действия"
   ]
  },
  {
   "cell_type": "code",
   "execution_count": 211,
   "id": "08b6561f",
   "metadata": {},
   "outputs": [],
   "source": [
    "def func(y):\n",
    "    return np.log1p(y)\n",
    "\n",
    "def inverse_func(y):\n",
    "    return np.expm1(y)"
   ]
  },
  {
   "cell_type": "code",
   "execution_count": 212,
   "id": "3c6ef01b",
   "metadata": {},
   "outputs": [],
   "source": [
    "model_log = TransformedTargetRegressor(regressor=model, \n",
    "                                       func=func, \n",
    "                                       inverse_func=inverse_func)"
   ]
  },
  {
   "cell_type": "code",
   "execution_count": 213,
   "id": "9328a5d1",
   "metadata": {},
   "outputs": [],
   "source": [
    "result_log = model_log.fit(X_train, y_train)"
   ]
  },
  {
   "cell_type": "code",
   "execution_count": 214,
   "id": "a1c2b0d8",
   "metadata": {},
   "outputs": [],
   "source": [
    "predicts_train_log = result_log.predict(X_train)"
   ]
  },
  {
   "cell_type": "code",
   "execution_count": 215,
   "id": "91b32c7f",
   "metadata": {},
   "outputs": [],
   "source": [
    "predicts_train_log[predicts_train_log < 0] = 0"
   ]
  },
  {
   "cell_type": "code",
   "execution_count": 216,
   "id": "0a7907af",
   "metadata": {},
   "outputs": [],
   "source": [
    "predicts_test_log = result_log.predict(X_test)"
   ]
  },
  {
   "cell_type": "code",
   "execution_count": 217,
   "id": "52b004c5",
   "metadata": {},
   "outputs": [],
   "source": [
    "predicts_test_log[predicts_test_log < 0] = 0"
   ]
  },
  {
   "cell_type": "code",
   "execution_count": 218,
   "id": "5c471e0a",
   "metadata": {},
   "outputs": [
    {
     "name": "stdout",
     "output_type": "stream",
     "text": [
      "RMSLE for log train =  1.979316537402208\n",
      "RMSLE for log test =  2.087630611042271\n"
     ]
    }
   ],
   "source": [
    "print('RMSLE for log train = ', np.sqrt(mean_squared_log_error(y_train.values, predicts_train_log)))\n",
    "print('RMSLE for log test = ', np.sqrt(mean_squared_log_error(y_test.values, predicts_test_log)))"
   ]
  },
  {
   "cell_type": "markdown",
   "id": "65f53047",
   "metadata": {},
   "source": [
    "3. Посмотрим на факторные переменные: возможно, их тоже можно преобразовать и улучшить результат?"
   ]
  },
  {
   "cell_type": "code",
   "execution_count": 219,
   "id": "6bef49db",
   "metadata": {},
   "outputs": [],
   "source": [
    "cols = train.columns"
   ]
  },
  {
   "cell_type": "code",
   "execution_count": 220,
   "id": "f214ae67",
   "metadata": {},
   "outputs": [
    {
     "data": {
      "image/png": "[encoded data removed]",
      "text/plain": [
       "<Figure size 600x1200 with 14 Axes>"
      ]
     },
     "metadata": {},
     "output_type": "display_data"
    }
   ],
   "source": [
    "fig, axarr = plt.subplots(14, 1, figsize=(12, 6))\n",
    "for i in range(14):\n",
    "    train[cols[i]].hist(figsize=(6, 12), bins=50, ax=axarr[i])\n",
    "for i, axarr in enumerate(axarr.ravel()):\n",
    "    axarr.set_title(\"{}\".format(cols[i]))\n",
    "plt.show()"
   ]
  },
  {
   "cell_type": "markdown",
   "id": "295364a6",
   "metadata": {},
   "source": [
    "Видим, что все данные кроме month имеют длинный затухающий хвост, надо их логарифмировать"
   ]
  },
  {
   "cell_type": "code",
   "execution_count": 221,
   "id": "5f14e8ed",
   "metadata": {},
   "outputs": [],
   "source": [
    "X_basic = train.loc[:,'material_code':'month']"
   ]
  },
  {
   "cell_type": "code",
   "execution_count": 222,
   "id": "505fbff9",
   "metadata": {},
   "outputs": [],
   "source": [
    "X_log = np.log1p(train.loc[:,'vol_tm6':'last_year_max'])"
   ]
  },
  {
   "cell_type": "code",
   "execution_count": 223,
   "id": "30531445",
   "metadata": {},
   "outputs": [],
   "source": [
    "X = pd.concat([X_basic, X_log], axis=1)"
   ]
  },
  {
   "cell_type": "code",
   "execution_count": 239,
   "id": "b8a9def1",
   "metadata": {},
   "outputs": [
    {
     "data": {
      "text/html": [
       "<div>\n",
       "<style scoped>\n",
       "    .dataframe tbody tr th:only-of-type {\n",
       "        vertical-align: middle;\n",
       "    }\n",
       "\n",
       "    .dataframe tbody tr th {\n",
       "        vertical-align: top;\n",
       "    }\n",
       "\n",
       "    .dataframe thead th {\n",
       "        text-align: right;\n",
       "    }\n",
       "</style>\n",
       "<table border=\"1\" class=\"dataframe\">\n",
       "  <thead>\n",
       "    <tr style=\"text-align: right;\">\n",
       "      <th></th>\n",
       "      <th>material_code</th>\n",
       "      <th>company_code</th>\n",
       "      <th>country</th>\n",
       "      <th>region</th>\n",
       "      <th>manager_code</th>\n",
       "      <th>month</th>\n",
       "      <th>vol_tm6</th>\n",
       "      <th>vol_tm5</th>\n",
       "      <th>vol_tm4</th>\n",
       "      <th>vol_tm3</th>\n",
       "      <th>vol_tm2</th>\n",
       "      <th>vol_tm1</th>\n",
       "      <th>last_year_avg</th>\n",
       "      <th>last_year_min</th>\n",
       "      <th>last_year_max</th>\n",
       "    </tr>\n",
       "  </thead>\n",
       "  <tbody>\n",
       "    <tr>\n",
       "      <th>0</th>\n",
       "      <td>109.304995</td>\n",
       "      <td>109.304995</td>\n",
       "      <td>109.304995</td>\n",
       "      <td>109.304995</td>\n",
       "      <td>109.304995</td>\n",
       "      <td>1</td>\n",
       "      <td>5.398163</td>\n",
       "      <td>5.398163</td>\n",
       "      <td>5.398163</td>\n",
       "      <td>5.638355</td>\n",
       "      <td>5.638355</td>\n",
       "      <td>5.638355</td>\n",
       "      <td>5.564520</td>\n",
       "      <td>5.398163</td>\n",
       "      <td>5.831882</td>\n",
       "    </tr>\n",
       "    <tr>\n",
       "      <th>1</th>\n",
       "      <td>109.304995</td>\n",
       "      <td>109.304995</td>\n",
       "      <td>109.304995</td>\n",
       "      <td>109.304995</td>\n",
       "      <td>109.304995</td>\n",
       "      <td>1</td>\n",
       "      <td>0.000000</td>\n",
       "      <td>0.000000</td>\n",
       "      <td>0.000000</td>\n",
       "      <td>0.000000</td>\n",
       "      <td>0.000000</td>\n",
       "      <td>0.000000</td>\n",
       "      <td>3.120895</td>\n",
       "      <td>0.000000</td>\n",
       "      <td>5.303305</td>\n",
       "    </tr>\n",
       "    <tr>\n",
       "      <th>2</th>\n",
       "      <td>54.652497</td>\n",
       "      <td>54.652497</td>\n",
       "      <td>54.652497</td>\n",
       "      <td>109.304995</td>\n",
       "      <td>54.652497</td>\n",
       "      <td>1</td>\n",
       "      <td>0.000000</td>\n",
       "      <td>0.000000</td>\n",
       "      <td>4.615121</td>\n",
       "      <td>5.398163</td>\n",
       "      <td>3.044522</td>\n",
       "      <td>0.000000</td>\n",
       "      <td>3.713572</td>\n",
       "      <td>0.000000</td>\n",
       "      <td>5.398163</td>\n",
       "    </tr>\n",
       "    <tr>\n",
       "      <th>3</th>\n",
       "      <td>36.434998</td>\n",
       "      <td>36.434998</td>\n",
       "      <td>36.434998</td>\n",
       "      <td>109.304995</td>\n",
       "      <td>36.434998</td>\n",
       "      <td>1</td>\n",
       "      <td>5.198497</td>\n",
       "      <td>4.605170</td>\n",
       "      <td>4.110874</td>\n",
       "      <td>5.993961</td>\n",
       "      <td>4.795791</td>\n",
       "      <td>3.044522</td>\n",
       "      <td>4.528109</td>\n",
       "      <td>0.000000</td>\n",
       "      <td>5.993961</td>\n",
       "    </tr>\n",
       "    <tr>\n",
       "      <th>4</th>\n",
       "      <td>37.326249</td>\n",
       "      <td>37.326249</td>\n",
       "      <td>109.304995</td>\n",
       "      <td>109.304995</td>\n",
       "      <td>109.304995</td>\n",
       "      <td>1</td>\n",
       "      <td>3.713572</td>\n",
       "      <td>3.044522</td>\n",
       "      <td>3.713572</td>\n",
       "      <td>3.433987</td>\n",
       "      <td>0.000000</td>\n",
       "      <td>3.713572</td>\n",
       "      <td>3.004031</td>\n",
       "      <td>0.000000</td>\n",
       "      <td>3.713572</td>\n",
       "    </tr>\n",
       "    <tr>\n",
       "      <th>...</th>\n",
       "      <td>...</td>\n",
       "      <td>...</td>\n",
       "      <td>...</td>\n",
       "      <td>...</td>\n",
       "      <td>...</td>\n",
       "      <td>...</td>\n",
       "      <td>...</td>\n",
       "      <td>...</td>\n",
       "      <td>...</td>\n",
       "      <td>...</td>\n",
       "      <td>...</td>\n",
       "      <td>...</td>\n",
       "      <td>...</td>\n",
       "      <td>...</td>\n",
       "      <td>...</td>\n",
       "    </tr>\n",
       "    <tr>\n",
       "      <th>11287</th>\n",
       "      <td>81.197104</td>\n",
       "      <td>9.108750</td>\n",
       "      <td>96.244657</td>\n",
       "      <td>75.909940</td>\n",
       "      <td>96.644710</td>\n",
       "      <td>12</td>\n",
       "      <td>0.000000</td>\n",
       "      <td>0.000000</td>\n",
       "      <td>0.000000</td>\n",
       "      <td>0.000000</td>\n",
       "      <td>0.000000</td>\n",
       "      <td>0.000000</td>\n",
       "      <td>0.000000</td>\n",
       "      <td>0.000000</td>\n",
       "      <td>0.000000</td>\n",
       "    </tr>\n",
       "    <tr>\n",
       "      <th>11288</th>\n",
       "      <td>59.495667</td>\n",
       "      <td>72.628814</td>\n",
       "      <td>96.233404</td>\n",
       "      <td>51.984540</td>\n",
       "      <td>39.299434</td>\n",
       "      <td>12</td>\n",
       "      <td>2.397895</td>\n",
       "      <td>1.791759</td>\n",
       "      <td>1.791759</td>\n",
       "      <td>2.397895</td>\n",
       "      <td>2.397895</td>\n",
       "      <td>0.000000</td>\n",
       "      <td>1.832581</td>\n",
       "      <td>0.000000</td>\n",
       "      <td>2.397895</td>\n",
       "    </tr>\n",
       "    <tr>\n",
       "      <th>11289</th>\n",
       "      <td>58.332717</td>\n",
       "      <td>85.512708</td>\n",
       "      <td>96.222855</td>\n",
       "      <td>51.792937</td>\n",
       "      <td>82.683294</td>\n",
       "      <td>12</td>\n",
       "      <td>4.804021</td>\n",
       "      <td>4.804021</td>\n",
       "      <td>4.867534</td>\n",
       "      <td>4.770685</td>\n",
       "      <td>4.753590</td>\n",
       "      <td>4.634729</td>\n",
       "      <td>4.440689</td>\n",
       "      <td>0.000000</td>\n",
       "      <td>4.867534</td>\n",
       "    </tr>\n",
       "    <tr>\n",
       "      <th>11290</th>\n",
       "      <td>57.708617</td>\n",
       "      <td>139.402187</td>\n",
       "      <td>96.214998</td>\n",
       "      <td>84.871469</td>\n",
       "      <td>82.504350</td>\n",
       "      <td>12</td>\n",
       "      <td>4.615121</td>\n",
       "      <td>4.795791</td>\n",
       "      <td>4.795791</td>\n",
       "      <td>4.394449</td>\n",
       "      <td>4.795791</td>\n",
       "      <td>4.948760</td>\n",
       "      <td>4.795102</td>\n",
       "      <td>4.394449</td>\n",
       "      <td>5.081404</td>\n",
       "    </tr>\n",
       "    <tr>\n",
       "      <th>11291</th>\n",
       "      <td>58.589687</td>\n",
       "      <td>238.929375</td>\n",
       "      <td>96.215440</td>\n",
       "      <td>103.251955</td>\n",
       "      <td>60.894931</td>\n",
       "      <td>12</td>\n",
       "      <td>0.000000</td>\n",
       "      <td>3.044522</td>\n",
       "      <td>0.000000</td>\n",
       "      <td>3.044522</td>\n",
       "      <td>3.713572</td>\n",
       "      <td>3.713572</td>\n",
       "      <td>2.662588</td>\n",
       "      <td>0.000000</td>\n",
       "      <td>3.713572</td>\n",
       "    </tr>\n",
       "  </tbody>\n",
       "</table>\n",
       "<p>11292 rows × 15 columns</p>\n",
       "</div>"
      ],
      "text/plain": [
       "       material_code  company_code     country      region  manager_code  \\\n",
       "0         109.304995    109.304995  109.304995  109.304995    109.304995   \n",
       "1         109.304995    109.304995  109.304995  109.304995    109.304995   \n",
       "2          54.652497     54.652497   54.652497  109.304995     54.652497   \n",
       "3          36.434998     36.434998   36.434998  109.304995     36.434998   \n",
       "4          37.326249     37.326249  109.304995  109.304995    109.304995   \n",
       "...              ...           ...         ...         ...           ...   \n",
       "11287      81.197104      9.108750   96.244657   75.909940     96.644710   \n",
       "11288      59.495667     72.628814   96.233404   51.984540     39.299434   \n",
       "11289      58.332717     85.512708   96.222855   51.792937     82.683294   \n",
       "11290      57.708617    139.402187   96.214998   84.871469     82.504350   \n",
       "11291      58.589687    238.929375   96.215440  103.251955     60.894931   \n",
       "\n",
       "       month   vol_tm6   vol_tm5   vol_tm4   vol_tm3   vol_tm2   vol_tm1  \\\n",
       "0          1  5.398163  5.398163  5.398163  5.638355  5.638355  5.638355   \n",
       "1          1  0.000000  0.000000  0.000000  0.000000  0.000000  0.000000   \n",
       "2          1  0.000000  0.000000  4.615121  5.398163  3.044522  0.000000   \n",
       "3          1  5.198497  4.605170  4.110874  5.993961  4.795791  3.044522   \n",
       "4          1  3.713572  3.044522  3.713572  3.433987  0.000000  3.713572   \n",
       "...      ...       ...       ...       ...       ...       ...       ...   \n",
       "11287     12  0.000000  0.000000  0.000000  0.000000  0.000000  0.000000   \n",
       "11288     12  2.397895  1.791759  1.791759  2.397895  2.397895  0.000000   \n",
       "11289     12  4.804021  4.804021  4.867534  4.770685  4.753590  4.634729   \n",
       "11290     12  4.615121  4.795791  4.795791  4.394449  4.795791  4.948760   \n",
       "11291     12  0.000000  3.044522  0.000000  3.044522  3.713572  3.713572   \n",
       "\n",
       "       last_year_avg  last_year_min  last_year_max  \n",
       "0           5.564520       5.398163       5.831882  \n",
       "1           3.120895       0.000000       5.303305  \n",
       "2           3.713572       0.000000       5.398163  \n",
       "3           4.528109       0.000000       5.993961  \n",
       "4           3.004031       0.000000       3.713572  \n",
       "...              ...            ...            ...  \n",
       "11287       0.000000       0.000000       0.000000  \n",
       "11288       1.832581       0.000000       2.397895  \n",
       "11289       4.440689       0.000000       4.867534  \n",
       "11290       4.795102       4.394449       5.081404  \n",
       "11291       2.662588       0.000000       3.713572  \n",
       "\n",
       "[11292 rows x 15 columns]"
      ]
     },
     "execution_count": 239,
     "metadata": {},
     "output_type": "execute_result"
    }
   ],
   "source": [
    "X"
   ]
  },
  {
   "cell_type": "code",
   "execution_count": 235,
   "id": "04ce1687",
   "metadata": {},
   "outputs": [],
   "source": [
    "result_X_log = model.fit(X, np.log1p(y_train))"
   ]
  },
  {
   "cell_type": "code",
   "execution_count": 236,
   "id": "e21c06cc",
   "metadata": {},
   "outputs": [],
   "source": [
    "predicts_train_X_log = result_X_log.predict(X)"
   ]
  },
  {
   "cell_type": "code",
   "execution_count": 237,
   "id": "a3015403",
   "metadata": {},
   "outputs": [],
   "source": [
    "predicts_train_X_log[predicts_train_X_log < 0] = 0"
   ]
  },
  {
   "cell_type": "code",
   "execution_count": 241,
   "id": "a8a5408f",
   "metadata": {},
   "outputs": [],
   "source": [
    "X_basic_test = test.loc[:,'material_code':'month']"
   ]
  },
  {
   "cell_type": "code",
   "execution_count": 242,
   "id": "4b919488",
   "metadata": {},
   "outputs": [],
   "source": [
    "X_log_test = np.log1p(test.loc[:,'vol_tm6':'last_year_max'])"
   ]
  },
  {
   "cell_type": "code",
   "execution_count": 243,
   "id": "f2d0311f",
   "metadata": {},
   "outputs": [],
   "source": [
    "X_test = pd.concat([X_basic_test, X_log_test], axis=1)"
   ]
  },
  {
   "cell_type": "code",
   "execution_count": 244,
   "id": "97e56d9e",
   "metadata": {},
   "outputs": [],
   "source": [
    "predicts_test_X_log = result.predict(X_test)"
   ]
  },
  {
   "cell_type": "code",
   "execution_count": 245,
   "id": "2a65f3c7",
   "metadata": {},
   "outputs": [],
   "source": [
    "predicts_test_X_log[predicts_test_X_log < 0] = 0"
   ]
  },
  {
   "cell_type": "code",
   "execution_count": 247,
   "id": "e3baa8af",
   "metadata": {},
   "outputs": [
    {
     "name": "stdout",
     "output_type": "stream",
     "text": [
      "RMSLE for (logX, y) train =  1.5296335422585057\n",
      "RMSLE for (logX, y) test =  1.742170381890992\n"
     ]
    }
   ],
   "source": [
    "print('RMSLE for (logX, y) train = ', np.sqrt(mean_squared_log_error(y_train.values, np.expm1(predicts_train_X_log))))\n",
    "print('RMSLE for (logX, y) test = ', np.sqrt(mean_squared_log_error(y_test.values, np.expm1(predicts_test_X_log))))"
   ]
  },
  {
   "cell_type": "code",
   "execution_count": null,
   "id": "dc2ca5dc",
   "metadata": {},
   "outputs": [],
   "source": []
  }
 ],
 "metadata": {
  "kernelspec": {
   "display_name": "Python 3 (ipykernel)",
   "language": "python",
   "name": "python3"
  },
  "language_info": {
   "codemirror_mode": {
    "name": "ipython",
    "version": 3
   },
   "file_extension": ".py",
   "mimetype": "text/x-python",
   "name": "python",
   "nbconvert_exporter": "python",
   "pygments_lexer": "ipython3",
   "version": "3.8.10"
  }
 },
 "nbformat": 4,
 "nbformat_minor": 5
}
